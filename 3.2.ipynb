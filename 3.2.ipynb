{
 "cells": [
  {
   "cell_type": "code",
   "execution_count": 1,
   "metadata": {},
   "outputs": [],
   "source": [
    "import numpy as np\n",
    "import matplotlib.pyplot as plt\n",
    "% matplotlib inline\n",
    "import gym\n",
    "from JSAnimation.IPython_display import display_animation\n",
    "from matplotlib import animation\n",
    "from IPython.display import display\n",
    "\n",
    "ENV = 'CartPole-v0'\n",
    "NUM_DIGITIZED = 6\n",
    "GAMMA = 0.99  #時間割引率\n",
    "ETA = 0.5  #学習係数\n",
    "MAX_STEPS = 200\n",
    "NUM_EPISODES = 1000\n",
    "\n",
    "\n",
    "def display_frames_as_gif(frames):\n",
    "    plt.figure(figsize=(frames[0].shape[1] / 72.0, frames[0].shape[0] / 72.0), dpi=72)\n",
    "    patch = plt.imshow(frames[0])\n",
    "    plt.axis('off')\n",
    "\n",
    "    def animate(i):\n",
    "        patch.set_data(frames[i])\n",
    "\n",
    "    anim = animation.FuncAnimation(plt.gcf(), animate, frames=len(frames), interval=50)\n",
    "    anim.save('movie_cartpole.mp4')\n",
    "    display(display_animation(anim, default_mode='loop'))\n"
   ]
  },
  {
   "cell_type": "code",
   "execution_count": 3,
   "metadata": {},
   "outputs": [],
   "source": [
    ""
   ]
  },
  {
   "cell_type": "code",
   "execution_count": 3,
   "metadata": {},
   "outputs": [],
   "source": [
    "class Agent:\n",
    "    def __init__(self, num_states, num_actions):\n",
    "        self.brain = Brain(num_states, num_actions)\n",
    "    \n",
    "    def update_Q_function(self, observation, action, reward, observation_next):\n",
    "        self.brain.update_Q_table(observation, action, reward, observation_next)\n",
    "        \n",
    "    def get_action(self, observation, step):\n",
    "        action = self.brain.decide_action(observation, step)\n",
    "        return action"
   ]
  },
  {
   "cell_type": "code",
   "execution_count": 4,
   "metadata": {},
   "outputs": [],
   "source": [
    "class Brain:\n",
    "    def __init__(self, num_states, num_actions):\n",
    "        self.num_actions = num_actions\n",
    "        self.q_table = np.random.uniform(low=0, high=1, size=(NUM_DIGITIZED ** num_states, num_actions))\n",
    "\n",
    "    def bins(self, clip_min, clip_max, num):\n",
    "        # linspace: 等間隔の数列を返す\n",
    "        # [1:-1]2つ目から最後から1つ手前まで\n",
    "        return np.linspace(clip_min, clip_max, num + 1)[1:-1]\n",
    "\n",
    "    def digitize_state(self, observation):\n",
    "        cart_pos, cart_v, pole_angle, pole_v = observation\n",
    "        digitized = [\n",
    "            np.digitize(cart_pos, bins=self.bins(-2.4, 2.4, NUM_DIGITIZED)),\n",
    "            np.digitize(cart_v, bins=self.bins(-3.0, 3.0, NUM_DIGITIZED)),\n",
    "            np.digitize(pole_angle, bins=self.bins(-0.5, 0.5, NUM_DIGITIZED)),\n",
    "            np.digitize(pole_v, bins=self.bins(-2.0, 2.0, NUM_DIGITIZED))\n",
    "        ]\n",
    "        return sum([x * (NUM_DIGITIZED ** i) for i, x in enumerate(digitized)])\n",
    "\n",
    "    def update_Q_table(self, observation, action, reward, observation_next):\n",
    "        state = self.digitize_state(observation)\n",
    "        state_next = self.digitize_state(observation_next)\n",
    "        Max_Q_next = max(self.q_table[state_next][:])\n",
    "        self.q_table[state, action] = self.q_table[state, action] + ETA * (reward + GAMMA * Max_Q_next - self.q_table[state, action])\n",
    "\n",
    "    def decide_action(self, observation, episode):\n",
    "        state = self.digitize_state(observation)\n",
    "        epsilon = 0.5 * (1 / (episode + 1))\n",
    "        \n",
    "        if epsilon <= np.random.uniform(0, 1):\n",
    "            action = np.argmax(self.q_table[state][:])\n",
    "        else:\n",
    "            action = np.random.choice(self.num_actions)\n",
    "        return action"
   ]
  },
  {
   "cell_type": "code",
   "execution_count": 5,
   "metadata": {},
   "outputs": [],
   "source": [
    "class Environment:\n",
    "    def __init__(self):\n",
    "        self.env = gym.make(ENV)\n",
    "        num_states = self.env.observation_space.shape[0]\n",
    "        num_actions = self.env.action_space.n\n",
    "        self.agent = Agent(num_states, num_actions)\n",
    "        \n",
    "    def run(self):\n",
    "        complete_episodes = 0\n",
    "        is_episode_final = False\n",
    "        frames = []\n",
    "        \n",
    "        for episode in range(NUM_EPISODES):\n",
    "            observation = self.env.reset()\n",
    "            \n",
    "            for step in range(MAX_STEPS):\n",
    "                if is_episode_final is True:\n",
    "                    frames.append(self.env.render(mode='rgb_array'))\n",
    "                \n",
    "                action = self.agent.get_action(observation, episode)\n",
    "                observation_next, _, done, _ = self.env.step(action)\n",
    "                \n",
    "                if done:\n",
    "                    if step < 195:\n",
    "                        reward = -1\n",
    "                        complete_episodes = 0\n",
    "                    else:\n",
    "                        reward = 1\n",
    "                        complete_episodes += 1\n",
    "                else:\n",
    "                    reward = 0\n",
    "                    \n",
    "                self.agent.update_Q_function(observation, action, reward, observation_next)\n",
    "                \n",
    "                observation = observation_next\n",
    "                \n",
    "                if done:\n",
    "                    print('{0} Episode: Finished after {1} time steps'.format(episode, step + 1))\n",
    "                    break\n",
    "                    \n",
    "            if is_episode_final:\n",
    "                display_frames_as_gif(frames)\n",
    "                break\n",
    "                \n",
    "            if complete_episodes >= 10:\n",
    "                print('10回連続成功')\n",
    "                is_episode_final = True"
   ]
  },
  {
   "cell_type": "code",
   "execution_count": 6,
   "metadata": {},
   "outputs": [
    {
     "name": "stdout",
     "output_type": "stream",
     "text": [
      "0 Episode: Finished after 16 time steps\n1 Episode: Finished after 24 time steps\n2 Episode: Finished after 11 time steps\n3 Episode: Finished after 11 time steps\n4 Episode: Finished after 14 time steps\n5 Episode: Finished after 23 time steps\n6 Episode: Finished after 12 time steps\n7 Episode: Finished after 11 time steps\n8 Episode: Finished after 11 time steps\n9 Episode: Finished after 12 time steps\n10 Episode: Finished after 9 time steps\n11 Episode: Finished after 12 time steps\n12 Episode: Finished after 10 time steps"
     ]
    },
    {
     "name": "stdout",
     "output_type": "stream",
     "text": [
      "\n13 Episode: Finished after 15 time steps\n14 Episode: Finished after 39 time steps\n15 Episode: Finished after 8 time steps\n16 Episode: Finished after 69 time steps\n17 Episode: Finished after 38 time steps\n18 Episode: Finished after 45 time steps\n19 Episode: Finished after 48 time steps\n20 Episode: Finished after 20 time steps\n21 Episode: Finished after 34 time steps\n22 Episode: Finished after 10 time steps\n23 Episode: Finished after 11 time steps\n24 Episode: Finished after 41 time steps\n25 Episode: Finished after 17 time steps\n26 Episode: Finished after 9 time steps\n27 Episode: Finished after 16 time steps\n28 Episode: Finished after 21 time steps\n29 Episode: Finished after 29 time steps\n30 Episode: Finished after 11 time steps\n31 Episode: Finished after 10 time steps\n32 Episode: Finished after 21 time steps\n33 Episode: Finished after 15 time steps\n34 Episode: Finished after 26 time steps\n35 Episode: Finished after 37 time steps\n36 Episode: Finished after 30 time steps\n37 Episode: Finished after 42 time steps\n38 Episode: Finished after 17 time steps\n39 Episode: Finished after 10 time steps\n40 Episode: Finished after 24 time steps\n41 Episode: Finished after 60 time steps\n42 Episode: Finished after 10 time steps\n43 Episode: Finished after 12 time steps\n44 Episode: Finished after 15 time steps\n45 Episode: Finished after 22 time steps\n46 Episode: Finished after 59 time steps\n47 Episode: Finished after 48 time steps\n48 Episode: Finished after 34 time steps\n49 Episode: Finished after 61 time steps\n50 Episode: Finished after 57 time steps\n"
     ]
    },
    {
     "name": "stdout",
     "output_type": "stream",
     "text": [
      "51 Episode: Finished after 28 time steps\n52 Episode: Finished after 84 time steps\n53 Episode: Finished after 67 time steps\n54 Episode: Finished after 148 time steps\n55 Episode: Finished after 106 time steps\n56 Episode: Finished after 162 time steps\n57 Episode: Finished after 111 time steps\n58 Episode: Finished after 23 time steps\n59 Episode: Finished after 59 time steps\n60 Episode: Finished after 73 time steps\n61 Episode: Finished after 70 time steps\n62 Episode: Finished after 71 time steps\n63 Episode: Finished after 53 time steps\n64 Episode: Finished after 75 time steps\n65 Episode: Finished after 42 time steps\n66 Episode: Finished after 139 time steps\n67 Episode: Finished after 200 time steps"
     ]
    },
    {
     "name": "stdout",
     "output_type": "stream",
     "text": [
      "\n68 Episode: Finished after 31 time steps\n69 Episode: Finished after 56 time steps\n70 Episode: Finished after 88 time steps\n71 Episode: Finished after 35 time steps\n72 Episode: Finished after 38 time steps\n73 Episode: Finished after 40 time steps\n74 Episode: Finished after 39 time steps\n75 Episode: Finished after 71 time steps\n76 Episode: Finished after 20 time steps\n77 Episode: Finished after 37 time steps\n78 Episode: Finished after 13 time steps\n79 Episode: Finished after 30 time steps\n80 Episode: Finished after 9 time steps\n81 Episode: Finished after 25 time steps\n82 Episode: Finished after 10 time steps\n83 Episode: Finished after 41 time steps\n84 Episode: Finished after 27 time steps\n85 Episode: Finished after 50 time steps\n86 Episode: Finished after 53 time steps"
     ]
    },
    {
     "name": "stdout",
     "output_type": "stream",
     "text": [
      "\n87 Episode: Finished after 200 time steps\n88 Episode: Finished after 68 time steps\n89 Episode: Finished after 84 time steps\n90 Episode: Finished after 140 time steps\n91 Episode: Finished after 200 time steps\n92 Episode: Finished after 138 time steps"
     ]
    },
    {
     "name": "stdout",
     "output_type": "stream",
     "text": [
      "\n93 Episode: Finished after 177 time steps\n94 Episode: Finished after 92 time steps\n95 Episode: Finished after 112 time steps\n96 Episode: Finished after 150 time steps\n97 Episode: Finished after 159 time steps\n98 Episode: Finished after 109 time steps\n99 Episode: Finished after 200 time steps\n100 Episode: Finished after 200 time steps\n"
     ]
    },
    {
     "name": "stdout",
     "output_type": "stream",
     "text": [
      "101 Episode: Finished after 200 time steps\n102 Episode: Finished after 200 time steps\n103 Episode: Finished after 200 time steps\n104 Episode: Finished after 200 time steps\n105 Episode: Finished after 100 time steps\n106 Episode: Finished after 200 time steps\n107 Episode: Finished after 200 time steps"
     ]
    },
    {
     "name": "stdout",
     "output_type": "stream",
     "text": [
      "\n108 Episode: Finished after 190 time steps\n109 Episode: Finished after 200 time steps\n110 Episode: Finished after 200 time steps\n111 Episode: Finished after 200 time steps\n112 Episode: Finished after 200 time steps"
     ]
    },
    {
     "name": "stdout",
     "output_type": "stream",
     "text": [
      "\n113 Episode: Finished after 200 time steps\n114 Episode: Finished after 200 time steps\n115 Episode: Finished after 200 time steps\n"
     ]
    },
    {
     "name": "stdout",
     "output_type": "stream",
     "text": [
      "116 Episode: Finished after 200 time steps\n117 Episode: Finished after 200 time steps\n118 Episode: Finished after 124 time steps\n119 Episode: Finished after 200 time steps\n120 Episode: Finished after 122 time steps\n121 Episode: Finished after 43 time steps\n122 Episode: Finished after 200 time steps\n123 Episode: Finished after 190 time steps\n124 Episode: Finished after 89 time steps\n125 Episode: Finished after 30 time steps\n"
     ]
    },
    {
     "name": "stdout",
     "output_type": "stream",
     "text": [
      "126 Episode: Finished after 103 time steps\n127 Episode: Finished after 200 time steps\n128 Episode: Finished after 117 time steps\n129 Episode: Finished after 129 time steps\n130 Episode: Finished after 200 time steps\n131 Episode: Finished after 69 time steps\n132 Episode: Finished after 200 time steps\n133 Episode: Finished after 113 time steps\n134 Episode: Finished after 46 time steps\n135 Episode: Finished after 125 time steps\n136 Episode: Finished after 200 time steps\n137 Episode: Finished after 111 time steps\n138 Episode: Finished after 10 time steps\n139 Episode: Finished after 122 time steps"
     ]
    },
    {
     "name": "stdout",
     "output_type": "stream",
     "text": [
      "\n140 Episode: Finished after 69 time steps\n141 Episode: Finished after 42 time steps\n142 Episode: Finished after 139 time steps\n143 Episode: Finished after 200 time steps\n144 Episode: Finished after 115 time steps\n145 Episode: Finished after 104 time steps\n146 Episode: Finished after 200 time steps\n147 Episode: Finished after 75 time steps\n148 Episode: Finished after 76 time steps\n149 Episode: Finished after 116 time steps\n150 Episode: Finished after 194 time steps\n151 Episode: Finished after 200 time steps\n152 Episode: Finished after 200 time steps\n153 Episode: Finished after 200 time steps\n154 Episode: Finished after 170 time steps\n155 Episode: Finished after 200 time steps\n156 Episode: Finished after 200 time steps\n157 Episode: Finished after 200 time steps\n158 Episode: Finished after 23 time steps\n159 Episode: Finished after 200 time steps\n160 Episode: Finished after 62 time steps\n161 Episode: Finished after 200 time steps\n162 Episode: Finished after 200 time steps"
     ]
    },
    {
     "name": "stdout",
     "output_type": "stream",
     "text": [
      "\n163 Episode: Finished after 200 time steps\n164 Episode: Finished after 200 time steps\n165 Episode: Finished after 200 time steps\n166 Episode: Finished after 200 time steps\n167 Episode: Finished after 200 time steps"
     ]
    },
    {
     "name": "stdout",
     "output_type": "stream",
     "text": [
      "\n168 Episode: Finished after 118 time steps\n169 Episode: Finished after 200 time steps\n170 Episode: Finished after 200 time steps\n171 Episode: Finished after 70 time steps\n172 Episode: Finished after 200 time steps"
     ]
    },
    {
     "name": "stdout",
     "output_type": "stream",
     "text": [
      "\n173 Episode: Finished after 200 time steps\n174 Episode: Finished after 200 time steps\n175 Episode: Finished after 58 time steps\n176 Episode: Finished after 200 time steps\n177 Episode: Finished after 200 time steps\n178 Episode: Finished after 200 time steps\n179 Episode: Finished after 200 time steps\n180 Episode: Finished after 200 time steps\n181 Episode: Finished after 200 time steps\n182 Episode: Finished after 200 time steps\n183 Episode: Finished after 200 time steps\n184 Episode: Finished after 200 time steps\n185 Episode: Finished after 200 time steps\n10回連続成功\n"
     ]
    },
    {
     "name": "stdout",
     "output_type": "stream",
     "text": [
      "186 Episode: Finished after 200 time steps\n"
     ]
    },
    {
     "name": "stderr",
     "output_type": "stream",
     "text": [
      "/Users/maeda/miniconda3/lib/python3.6/site-packages/matplotlib/animation.py:1218: UserWarning: MovieWriter ffmpeg unavailable\n  warnings.warn(\"MovieWriter %s unavailable\" % writer)\n"
     ]
    },
    {
     "ename": "ValueError",
     "evalue": "outfile must be *.htm or *.html",
     "traceback": [
      "\u001b[0;31m---------------------------------------------------------------------------\u001b[0m",
      "\u001b[0;31mValueError\u001b[0m                                Traceback (most recent call last)",
      "\u001b[0;32m<ipython-input-6-136d332c2315>\u001b[0m in \u001b[0;36m<module>\u001b[0;34m()\u001b[0m\n\u001b[1;32m      1\u001b[0m \u001b[0mcartpole_env\u001b[0m \u001b[0;34m=\u001b[0m \u001b[0mEnvironment\u001b[0m\u001b[0;34m(\u001b[0m\u001b[0;34m)\u001b[0m\u001b[0;34m\u001b[0m\u001b[0m\n\u001b[0;32m----> 2\u001b[0;31m \u001b[0mcartpole_env\u001b[0m\u001b[0;34m.\u001b[0m\u001b[0mrun\u001b[0m\u001b[0;34m(\u001b[0m\u001b[0;34m)\u001b[0m\u001b[0;34m\u001b[0m\u001b[0m\n\u001b[0m",
      "\u001b[0;32m<ipython-input-5-eff867121eb7>\u001b[0m in \u001b[0;36mrun\u001b[0;34m(self)\u001b[0m\n\u001b[1;32m     40\u001b[0m \u001b[0;34m\u001b[0m\u001b[0m\n\u001b[1;32m     41\u001b[0m             \u001b[0;32mif\u001b[0m \u001b[0mis_episode_final\u001b[0m\u001b[0;34m:\u001b[0m\u001b[0;34m\u001b[0m\u001b[0m\n\u001b[0;32m---> 42\u001b[0;31m                 \u001b[0mdisplay_frames_as_gif\u001b[0m\u001b[0;34m(\u001b[0m\u001b[0mframes\u001b[0m\u001b[0;34m)\u001b[0m\u001b[0;34m\u001b[0m\u001b[0m\n\u001b[0m\u001b[1;32m     43\u001b[0m                 \u001b[0;32mbreak\u001b[0m\u001b[0;34m\u001b[0m\u001b[0m\n\u001b[1;32m     44\u001b[0m \u001b[0;34m\u001b[0m\u001b[0m\n",
      "\u001b[0;32m<ipython-input-1-ec398e9ec9d3>\u001b[0m in \u001b[0;36mdisplay_frames_as_gif\u001b[0;34m(frames)\u001b[0m\n\u001b[1;32m     24\u001b[0m \u001b[0;34m\u001b[0m\u001b[0m\n\u001b[1;32m     25\u001b[0m     \u001b[0manim\u001b[0m \u001b[0;34m=\u001b[0m \u001b[0manimation\u001b[0m\u001b[0;34m.\u001b[0m\u001b[0mFuncAnimation\u001b[0m\u001b[0;34m(\u001b[0m\u001b[0mplt\u001b[0m\u001b[0;34m.\u001b[0m\u001b[0mgcf\u001b[0m\u001b[0;34m(\u001b[0m\u001b[0;34m)\u001b[0m\u001b[0;34m,\u001b[0m \u001b[0manimate\u001b[0m\u001b[0;34m,\u001b[0m \u001b[0mframes\u001b[0m\u001b[0;34m=\u001b[0m\u001b[0mlen\u001b[0m\u001b[0;34m(\u001b[0m\u001b[0mframes\u001b[0m\u001b[0;34m)\u001b[0m\u001b[0;34m,\u001b[0m \u001b[0minterval\u001b[0m\u001b[0;34m=\u001b[0m\u001b[0;36m50\u001b[0m\u001b[0;34m)\u001b[0m\u001b[0;34m\u001b[0m\u001b[0m\n\u001b[0;32m---> 26\u001b[0;31m     \u001b[0manim\u001b[0m\u001b[0;34m.\u001b[0m\u001b[0msave\u001b[0m\u001b[0;34m(\u001b[0m\u001b[0;34m'movie_cartpole.mp4'\u001b[0m\u001b[0;34m)\u001b[0m\u001b[0;34m\u001b[0m\u001b[0m\n\u001b[0m\u001b[1;32m     27\u001b[0m     \u001b[0mdisplay\u001b[0m\u001b[0;34m(\u001b[0m\u001b[0mdisplay_animation\u001b[0m\u001b[0;34m(\u001b[0m\u001b[0manim\u001b[0m\u001b[0;34m,\u001b[0m \u001b[0mdefault_mode\u001b[0m\u001b[0;34m=\u001b[0m\u001b[0;34m'loop'\u001b[0m\u001b[0;34m)\u001b[0m\u001b[0;34m)\u001b[0m\u001b[0;34m\u001b[0m\u001b[0m\n",
      "\u001b[0;32m~/miniconda3/lib/python3.6/site-packages/matplotlib/animation.py\u001b[0m in \u001b[0;36msave\u001b[0;34m(self, filename, writer, fps, dpi, codec, bitrate, extra_args, metadata, extra_anim, savefig_kwargs)\u001b[0m\n\u001b[1;32m   1249\u001b[0m                                level='helpful')\n\u001b[1;32m   1250\u001b[0m                 \u001b[0mrcParams\u001b[0m\u001b[0;34m[\u001b[0m\u001b[0;34m'savefig.bbox'\u001b[0m\u001b[0;34m]\u001b[0m \u001b[0;34m=\u001b[0m \u001b[0;32mNone\u001b[0m\u001b[0;34m\u001b[0m\u001b[0m\n\u001b[0;32m-> 1251\u001b[0;31m             \u001b[0;32mwith\u001b[0m \u001b[0mwriter\u001b[0m\u001b[0;34m.\u001b[0m\u001b[0msaving\u001b[0m\u001b[0;34m(\u001b[0m\u001b[0mself\u001b[0m\u001b[0;34m.\u001b[0m\u001b[0m_fig\u001b[0m\u001b[0;34m,\u001b[0m \u001b[0mfilename\u001b[0m\u001b[0;34m,\u001b[0m \u001b[0mdpi\u001b[0m\u001b[0;34m)\u001b[0m\u001b[0;34m:\u001b[0m\u001b[0;34m\u001b[0m\u001b[0m\n\u001b[0m\u001b[1;32m   1252\u001b[0m                 \u001b[0;32mfor\u001b[0m \u001b[0manim\u001b[0m \u001b[0;32min\u001b[0m \u001b[0mall_anim\u001b[0m\u001b[0;34m:\u001b[0m\u001b[0;34m\u001b[0m\u001b[0m\n\u001b[1;32m   1253\u001b[0m                     \u001b[0;31m# Clear the initial frame\u001b[0m\u001b[0;34m\u001b[0m\u001b[0;34m\u001b[0m\u001b[0m\n",
      "\u001b[0;32m~/miniconda3/lib/python3.6/contextlib.py\u001b[0m in \u001b[0;36m__enter__\u001b[0;34m(self)\u001b[0m\n\u001b[1;32m     79\u001b[0m     \u001b[0;32mdef\u001b[0m \u001b[0m__enter__\u001b[0m\u001b[0;34m(\u001b[0m\u001b[0mself\u001b[0m\u001b[0;34m)\u001b[0m\u001b[0;34m:\u001b[0m\u001b[0;34m\u001b[0m\u001b[0m\n\u001b[1;32m     80\u001b[0m         \u001b[0;32mtry\u001b[0m\u001b[0;34m:\u001b[0m\u001b[0;34m\u001b[0m\u001b[0m\n\u001b[0;32m---> 81\u001b[0;31m             \u001b[0;32mreturn\u001b[0m \u001b[0mnext\u001b[0m\u001b[0;34m(\u001b[0m\u001b[0mself\u001b[0m\u001b[0;34m.\u001b[0m\u001b[0mgen\u001b[0m\u001b[0;34m)\u001b[0m\u001b[0;34m\u001b[0m\u001b[0m\n\u001b[0m\u001b[1;32m     82\u001b[0m         \u001b[0;32mexcept\u001b[0m \u001b[0mStopIteration\u001b[0m\u001b[0;34m:\u001b[0m\u001b[0;34m\u001b[0m\u001b[0m\n\u001b[1;32m     83\u001b[0m             \u001b[0;32mraise\u001b[0m \u001b[0mRuntimeError\u001b[0m\u001b[0;34m(\u001b[0m\u001b[0;34m\"generator didn't yield\"\u001b[0m\u001b[0;34m)\u001b[0m \u001b[0;32mfrom\u001b[0m \u001b[0;32mNone\u001b[0m\u001b[0;34m\u001b[0m\u001b[0m\n",
      "\u001b[0;32m~/miniconda3/lib/python3.6/site-packages/matplotlib/animation.py\u001b[0m in \u001b[0;36msaving\u001b[0;34m(self, fig, outfile, dpi, *args, **kwargs)\u001b[0m\n\u001b[1;32m    231\u001b[0m         '''\n\u001b[1;32m    232\u001b[0m         \u001b[0;31m# This particular sequence is what contextlib.contextmanager wants\u001b[0m\u001b[0;34m\u001b[0m\u001b[0;34m\u001b[0m\u001b[0m\n\u001b[0;32m--> 233\u001b[0;31m         \u001b[0mself\u001b[0m\u001b[0;34m.\u001b[0m\u001b[0msetup\u001b[0m\u001b[0;34m(\u001b[0m\u001b[0mfig\u001b[0m\u001b[0;34m,\u001b[0m \u001b[0moutfile\u001b[0m\u001b[0;34m,\u001b[0m \u001b[0mdpi\u001b[0m\u001b[0;34m,\u001b[0m \u001b[0;34m*\u001b[0m\u001b[0margs\u001b[0m\u001b[0;34m,\u001b[0m \u001b[0;34m**\u001b[0m\u001b[0mkwargs\u001b[0m\u001b[0;34m)\u001b[0m\u001b[0;34m\u001b[0m\u001b[0m\n\u001b[0m\u001b[1;32m    234\u001b[0m         \u001b[0;32mtry\u001b[0m\u001b[0;34m:\u001b[0m\u001b[0;34m\u001b[0m\u001b[0m\n\u001b[1;32m    235\u001b[0m             \u001b[0;32myield\u001b[0m \u001b[0mself\u001b[0m\u001b[0;34m\u001b[0m\u001b[0m\n",
      "\u001b[0;32m~/miniconda3/lib/python3.6/site-packages/matplotlib/animation.py\u001b[0m in \u001b[0;36msetup\u001b[0;34m(self, fig, outfile, dpi, frame_dir)\u001b[0m\n\u001b[1;32m    939\u001b[0m     \u001b[0;32mdef\u001b[0m \u001b[0msetup\u001b[0m\u001b[0;34m(\u001b[0m\u001b[0mself\u001b[0m\u001b[0;34m,\u001b[0m \u001b[0mfig\u001b[0m\u001b[0;34m,\u001b[0m \u001b[0moutfile\u001b[0m\u001b[0;34m,\u001b[0m \u001b[0mdpi\u001b[0m\u001b[0;34m,\u001b[0m \u001b[0mframe_dir\u001b[0m\u001b[0;34m=\u001b[0m\u001b[0;32mNone\u001b[0m\u001b[0;34m)\u001b[0m\u001b[0;34m:\u001b[0m\u001b[0;34m\u001b[0m\u001b[0m\n\u001b[1;32m    940\u001b[0m         \u001b[0;32mif\u001b[0m \u001b[0mos\u001b[0m\u001b[0;34m.\u001b[0m\u001b[0mpath\u001b[0m\u001b[0;34m.\u001b[0m\u001b[0msplitext\u001b[0m\u001b[0;34m(\u001b[0m\u001b[0moutfile\u001b[0m\u001b[0;34m)\u001b[0m\u001b[0;34m[\u001b[0m\u001b[0;34m-\u001b[0m\u001b[0;36m1\u001b[0m\u001b[0;34m]\u001b[0m \u001b[0;32mnot\u001b[0m \u001b[0;32min\u001b[0m \u001b[0;34m[\u001b[0m\u001b[0;34m'.html'\u001b[0m\u001b[0;34m,\u001b[0m \u001b[0;34m'.htm'\u001b[0m\u001b[0;34m]\u001b[0m\u001b[0;34m:\u001b[0m\u001b[0;34m\u001b[0m\u001b[0m\n\u001b[0;32m--> 941\u001b[0;31m             \u001b[0;32mraise\u001b[0m \u001b[0mValueError\u001b[0m\u001b[0;34m(\u001b[0m\u001b[0;34m\"outfile must be *.htm or *.html\"\u001b[0m\u001b[0;34m)\u001b[0m\u001b[0;34m\u001b[0m\u001b[0m\n\u001b[0m\u001b[1;32m    942\u001b[0m \u001b[0;34m\u001b[0m\u001b[0m\n\u001b[1;32m    943\u001b[0m         \u001b[0;32mif\u001b[0m \u001b[0;32mnot\u001b[0m \u001b[0mself\u001b[0m\u001b[0;34m.\u001b[0m\u001b[0membed_frames\u001b[0m\u001b[0;34m:\u001b[0m\u001b[0;34m\u001b[0m\u001b[0m\n",
      "\u001b[0;31mValueError\u001b[0m: outfile must be *.htm or *.html"
     ],
     "output_type": "error"
    },
    {
     "data": {
      "image/png": "[encoded data removed]",
      "text/plain": [
       "<matplotlib.figure.Figure at 0x104e828d0>"
      ]
     },
     "metadata": {},
     "output_type": "display_data"
    }
   ],
   "source": [
    "cartpole_env = Environment()\n",
    "cartpole_env.run()\n"
   ]
  },
  {
   "cell_type": "code",
   "execution_count": null,
   "metadata": {},
   "outputs": [],
   "source": []
  }
 ],
 "metadata": {
  "kernelspec": {
   "display_name": "Python 3",
   "language": "python",
   "name": "python3"
  },
  "language_info": {
   "codemirror_mode": {
    "name": "ipython",
    "version": 3
   },
   "file_extension": ".py",
   "mimetype": "text/x-python",
   "name": "python",
   "nbconvert_exporter": "python",
   "pygments_lexer": "ipython3",
   "version": "3.6.3"
  }
 },
 "nbformat": 4,
 "nbformat_minor": 2
}
